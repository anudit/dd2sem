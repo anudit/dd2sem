{
 "cells": [
  {
   "cell_type": "code",
   "execution_count": 47,
   "metadata": {},
   "outputs": [
    {
     "name": "stdout",
     "output_type": "stream",
     "text": [
      "101\n"
     ]
    }
   ],
   "source": [
    "'''\n",
    "Question 1\n",
    "\n",
    "'''\n",
    "\n",
    "def conv(c): \n",
    "    if c >= '0' and c <= '9': \n",
    "        return ord(c) - ord('0') \n",
    "    else:\n",
    "        return ord(c) - ord('A') + 10\n",
    "  \n",
    "def XToDec(st,inp): \n",
    "    llen = len(st) \n",
    "    power = 1\n",
    "    num = 0\n",
    "    \n",
    "    for i in range(llen - 1, -1, -1): \n",
    "        if conv(st[i]) >= inp: \n",
    "            print('Invalid Number') \n",
    "            return -1\n",
    "        num += val(st[i]) * power \n",
    "        power = power * inp \n",
    "    return num \n",
    "\n",
    "def DecToX(n, base):\n",
    "\n",
    "    alpha = \"0123456789abcdefghijklmnopqrstuvwxyz\"\n",
    "    n = int(n)\n",
    "    base = int(base)\n",
    "\n",
    "    if n < 0 or base < 2 or base > 36:\n",
    "        return \"\"\n",
    "\n",
    "    s = \"\"\n",
    "    while 1:\n",
    "        r = int(n % base)\n",
    "        s = alpha[r] + s\n",
    "        n = n / base\n",
    "        if n == 0:\n",
    "            break\n",
    "\n",
    "    return s.strip(\"0\")\n",
    "\n",
    "print(DecToX(XToDec(\"5\", 10), 2))"
   ]
  },
  {
   "cell_type": "code",
   "execution_count": 133,
   "metadata": {},
   "outputs": [
    {
     "name": "stdout",
     "output_type": "stream",
     "text": [
      "[1, 4, 6]\n",
      "[6, 4, 1]\n",
      "2\n",
      "1\n",
      "['2', '1', '2']\n"
     ]
    },
    {
     "data": {
      "text/plain": [
       "212"
      ]
     },
     "execution_count": 133,
     "metadata": {},
     "output_type": "execute_result"
    }
   ],
   "source": [
    "'''\n",
    "Question 2\n",
    "\n",
    "'''\n",
    "\n",
    "alpha = list(\"0123456789abcdefghijklmnopqrstuvwxyz\")\n",
    "\n",
    "def add(x, y, b):\n",
    "\n",
    "    x1 = list(str(x))\n",
    "    y1 = list(str(y))\n",
    "    \n",
    "    for i in x1:\n",
    "        if(i not in alpha[0: int(b)] ):\n",
    "            return 0\n",
    "        \n",
    "    for i in y1:\n",
    "        if(i not in alpha[0: int(b)] ):\n",
    "            return 0    \n",
    "    \n",
    "    if (len(x1) < len(y1) ):\n",
    "        x1, y1 = y1, x1\n",
    "    \n",
    "    padded = []\n",
    "    for i in range (0, len(x1)-len(y1)):\n",
    "        padded += [0] \n",
    "    \n",
    "    padded += y1\n",
    "    \n",
    "    new= []\n",
    "    for i in range(0, len(x1)):\n",
    "        new.append(int(x1[i]) + int(padded[i]))\n",
    "\n",
    "    new = new[::-1]\n",
    "    \n",
    "    for i in range(0, len(new)):\n",
    "        if(int(new[i]) > b):\n",
    "            temp = int(new[i])\n",
    "            carry = 0\n",
    "            while(temp >= b):\n",
    "                temp-=b\n",
    "                carry +=1\n",
    "            new[i] = temp\n",
    "            new[i+1]+=carry\n",
    "            print(new[i])\n",
    "        \n",
    "        new[i] = str(new[i])\n",
    "    \n",
    "    return int(''.join(new[::-1]))\n",
    "    \n",
    "    \n",
    "add(123, 23, 4)"
   ]
  },
  {
   "cell_type": "code",
   "execution_count": null,
   "metadata": {},
   "outputs": [],
   "source": []
  }
 ],
 "metadata": {
  "kernelspec": {
   "display_name": "Python 3",
   "language": "python",
   "name": "python3"
  },
  "language_info": {
   "codemirror_mode": {
    "name": "ipython",
    "version": 3
   },
   "file_extension": ".py",
   "mimetype": "text/x-python",
   "name": "python",
   "nbconvert_exporter": "python",
   "pygments_lexer": "ipython3",
   "version": "3.7.2"
  }
 },
 "nbformat": 4,
 "nbformat_minor": 2
}
